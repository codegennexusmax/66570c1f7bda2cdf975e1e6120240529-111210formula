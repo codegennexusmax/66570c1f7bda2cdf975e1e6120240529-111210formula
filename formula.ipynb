{
 "cells": [
  {
   "cell_type": "markdown",
   "id": "462251af",
   "metadata": {},
   "source": [
    "***GENERATED CODE FOR formula PIPELINE.***"
   ]
  },
  {
   "cell_type": "markdown",
   "id": "cfb6e95f",
   "metadata": {},
   "source": [
    "***DON'T EDIT THIS CODE.***"
   ]
  },
  {
   "cell_type": "markdown",
   "id": "692ef48e",
   "metadata": {},
   "source": [
    "***CONNECTOR FUNCTIONS TO READ DATA.***"
   ]
  },
  {
   "cell_type": "code",
   "execution_count": null,
   "id": "7de42fd8",
   "metadata": {},
   "outputs": [],
   "source": [
    "import os\n",
    "import datetime\n",
    "import logging\n",
    "import warnings\n",
    "warnings.filterwarnings('ignore')\n",
    "logging.basicConfig(format='%(levelname)s:%(message)s', level=logging.INFO)\n",
    "\n",
    "\n",
    "class HDFSConnector:\n",
    "\n",
    "    def fetch(spark, config):\n",
    "        ################### INPUT HADOOP HOST PORT TO CONNECT WITH ###############################\n",
    "        hdfs_server = str(os.environ['HDFS_SERVER'])\n",
    "        hdfs_port = int(os.environ['HDFS_PORT'])\n",
    "        df = spark.read.options(header='true', inferschema='true').csv(\n",
    "            f\"hdfs://{hdfs_server}:{hdfs_port}{eval(config)['url']}\", header='true')\n",
    "        display(df.limit(2).toPandas())\n",
    "        return df\n",
    "\n",
    "    def put(df, spark, config):\n",
    "        return df.write.format('csv').options(header='true' if eval(config)[\"is_header\"] == \"Use Header Line\" else 'false',\n",
    "                                              delimiter=eval(config)[\"delimiter\"]).save((\"%s %s\") % (datetime.datetime.now().strftime(\"%Y-%m-%d %H.%M.%S\")+\"_\", eval(config)['url']))\n"
   ]
  },
  {
   "cell_type": "markdown",
   "id": "7d1022be",
   "metadata": {},
   "source": [
    "***OPERATION FUNCTIONS***"
   ]
  },
  {
   "cell_type": "code",
   "execution_count": null,
   "id": "1c5ef809",
   "metadata": {},
   "outputs": [],
   "source": [
    "class FormulaOperation:\n",
    "\n",
    "    def run(inStages, inStagesData, stageId, sparkSession, stageAttribs):\n",
    "\n",
    "        formula = \"\"\n",
    "        if stageAttribs[\"use_expression\"]:\n",
    "            for expression in stageAttribs[\"expression\"]:\n",
    "                formula += \"%s %s %s %s\" % (expression[\"combinator\"],\n",
    "                                            expression[\"value1\"],\n",
    "                                            expression[\"operator\"],\n",
    "                                            expression[\"value2\"])\n",
    "        else:\n",
    "            formula = stageAttribs[\"formula\"]\n",
    "\n",
    "        output_field = stageAttribs[\"output_field\"]\n",
    "\n",
    "        if output_field[\"absolute\"]:\n",
    "            formula = \"ABS(%s) as %s\" % (formula, output_field[\"field\"])\n",
    "        else:\n",
    "            formula = \"(%s) as %s\" % (formula, output_field[\"field\"])\n",
    "\n",
    "        inStagesData[inStages[0]].createOrReplaceTempView(\"view%s\" % (stageId))\n",
    "        return sparkSession.sql(\"SELECT *, %s FROM view\" % (formula,\n",
    "                                                            \"view%s\" % (stageId)))\n"
   ]
  },
  {
   "cell_type": "markdown",
   "id": "b0d4f399",
   "metadata": {},
   "source": [
    "***CONNECTOR FUNCTIONS TO WRITE DATA.***"
   ]
  },
  {
   "cell_type": "code",
   "execution_count": null,
   "id": "d67ab145",
   "metadata": {},
   "outputs": [],
   "source": [
    "import datetime\n",
    "import requests\n",
    "import datetime\n",
    "import logging\n",
    "import warnings\n",
    "warnings.filterwarnings('ignore')\n",
    "logging.basicConfig(format='%(levelname)s:%(message)s', level=logging.INFO)\n",
    "\n",
    "\n",
    "class NumtraConnector:\n",
    "\n",
    "    def put(inStages, inStagesData, stageId, spark, config):\n",
    "        path = eval(config)['server_url']\n",
    "        baseType = eval(config)['baseType']\n",
    "        results_url = eval(config)['results_url']\n",
    "        server = eval(config)['server']\n",
    "        originalfile = eval(config)['orignalKey']\n",
    "        eval(config)['pathOnly']\n",
    "        filename = eval(config)['filename']\n",
    "        eval(config)['ser']\n",
    "        eval(config)['user']\n",
    "        eval(config)['password']\n",
    "        eval(config)['authSource']\n",
    "        eval(config)['user_id']\n",
    "        eval(config)['parent_id']\n",
    "        eval(config)['project_id']\n",
    "        time = str(int(datetime.datetime.now().timestamp()))\n",
    "\n",
    "        inStagesData[inStages[0]]\n",
    "\n",
    "        print(path)\n",
    "        print(baseType)\n",
    "        print(results_url)\n",
    "        print(server)\n",
    "        print(originalfile)\n",
    "        print(filename)\n",
    "\n",
    "        args = {\n",
    "            'url': path,\n",
    "            'baseType': baseType,\n",
    "            'originalfile': originalfile,\n",
    "            'filename': time + filename\n",
    "        }\n",
    "\n",
    "        response = requests.post(results_url, args)\n",
    "        return response\n"
   ]
  },
  {
   "cell_type": "markdown",
   "id": "f2719deb",
   "metadata": {},
   "source": [
    "***READING DATAFRAME***"
   ]
  },
  {
   "cell_type": "code",
   "execution_count": null,
   "id": "f4cb2d7a",
   "metadata": {},
   "outputs": [],
   "source": [
    "############## CREATE SPARK SESSION ############################ ENTER YOUR SPARK MASTER IP AND PORT TO CONNECT TO SERVER ################\n",
    "from pyspark.sql import SparkSession\n",
    "spark = SparkSession.builder.master('local[1]').getOrCreate()\n",
    "#%run formulaHooks.ipynb\n",
    "try:\n",
    "\t#sourcePreExecutionHook()\n",
    "\n",
    "\ttelcocutomerchurntrainallu = HDFSConnector.fetch(spark, \"{'url': '/FileStore/platform/testdata/1715060300993_Telco_Customer_Churn_Train.csv', 'filename': 'Telco_Customer_Churn_Train.csv', 'delimiter': ',', 'file_type': 'Delimeted', 'FilePath': '/IQR testing/Telco_Customer_Churn_Train.csv', 'viewFileName': 'Telco_Customer_Churn_Train.csv', 'is_header': 'Use Header Line', 'baseType': 'hdfs', 'server_url': '/nexusMax/NexusMaxPlatform/uploads/platform/', 'results_url': 'http://dnm.bfirst.ai:44040/api/read/hdfs'}\")\n",
    "\n",
    "except Exception as ex: \n",
    "\tlogging.error(ex)\n",
    "#spark.stop()\n"
   ]
  },
  {
   "cell_type": "markdown",
   "id": "6cba9758",
   "metadata": {},
   "source": [
    "***PERFORMING OPERATIONS***"
   ]
  },
  {
   "cell_type": "code",
   "execution_count": null,
   "id": "ccc3cadd",
   "metadata": {},
   "outputs": [],
   "source": [
    "#%run formulaHooks.ipynb\n",
    "try:\n",
    "\tformula = FormulaOperation.run([\"66570c787bda2cdf975e1e87\"],{\"66570c787bda2cdf975e1e87\": telcocutomerchurntrainallu}, \"66570c7c7bda2cdf975e1e8b\", spark, \"{'dataType': 'numeric', 'dataTypes': ['String', 'numeric', 'real'], 'SelectedColumns': ['SeniorCitizen', 'tenure'], 'functionData': {'functionName': 'formula', 'applyOn': [{'columnName': 'SeniorCitizen', 'type': 'numeric', 'disable': False}, {'columnName': 'tenure', 'type': 'numeric', 'disable': False}], 'functionsData': [{'operand1': 'SeniorCitizen', 'operator': 'add', 'operand2': 'tenure', 'outputColumn': 'newColumn', 'useNext': 0, 'column': [{'Columndata': {'columnName': 'SeniorCitizen', 'type': 'numeric', 'disable': False}}, {'Columndata': {'columnName': 'tenure', 'type': 'numeric', 'disable': False}}, {'Columndata': ''}], 'newColumnName': 'formula sum'}]}, 'allColumns': [{'columnName': 'customerID', 'type': 'String', 'disable': True}, {'columnName': 'gender', 'type': 'String', 'disable': True}, {'columnName': 'SeniorCitizen', 'type': 'numeric', 'disable': False}, {'columnName': 'Partner', 'type': 'String', 'disable': True}, {'columnName': 'Dependents', 'type': 'String', 'disable': True}, {'columnName': 'tenure', 'type': 'numeric', 'disable': False}, {'columnName': 'PhoneService', 'type': 'String', 'disable': True}, {'columnName': 'MultipleLines', 'type': 'String', 'disable': True}, {'columnName': 'InternetService', 'type': 'String', 'disable': True}, {'columnName': 'OnlineSecurity', 'type': 'String', 'disable': True}, {'columnName': 'OnlineBackup', 'type': 'String', 'disable': True}, {'columnName': 'DeviceProtection', 'type': 'String', 'disable': True}, {'columnName': 'TechSupport', 'type': 'String', 'disable': True}, {'columnName': 'StreamingTV', 'type': 'String', 'disable': True}, {'columnName': 'StreamingMovies', 'type': 'String', 'disable': True}, {'columnName': 'Contract', 'type': 'String', 'disable': True}, {'columnName': 'PaperlessBilling', 'type': 'String', 'disable': True}, {'columnName': 'PaymentMethod', 'type': 'String', 'disable': True}, {'columnName': 'MonthlyCharges', 'type': 'real', 'disable': True}, {'columnName': 'TotalCharges', 'type': 'real', 'disable': True}, {'columnName': 'Churn', 'type': 'String', 'disable': True}], 'url': '/FileStore/platform/testdata/1715060300993_Telco_Customer_Churn_Train.csv', 'SelectedColumnsData': [{'columnName': 'SeniorCitizen', 'type': 'numeric', 'disable': False}, {'columnName': 'tenure', 'type': 'numeric', 'disable': False}], 'newColumnName': 'formula sum', 'server_url': '/nexusMax/NexusMaxPlatform/uploads/platform/'}\")\n",
    "\n",
    "except Exception as ex: \n",
    "\tlogging.error(ex)\n"
   ]
  },
  {
   "cell_type": "markdown",
   "id": "ea7e62cb",
   "metadata": {},
   "source": [
    "***WRITING DATAFRAME***"
   ]
  },
  {
   "cell_type": "code",
   "execution_count": null,
   "id": "f3df3f13",
   "metadata": {},
   "outputs": [],
   "source": [
    "#%run formulaHooks.ipynb\n",
    "try:\n",
    "\t#sinkPreExecutionHook()\n",
    "\n",
    "\thospitaldataoutput = NumtraConnector.fetch(spark, \"{'samplefile': '/FileStore/platform/sampleData/66570c787bda2cdf975e1e87/part-00000-6978f74c-79cd-4a06-bdca-c81adb715b3d-c000.csv', 'samplecount': 670, 'originalcount': 7043, 'orignalKey': '/FileStore/platform/testdata/1715060300993_Telco_Customer_Churn_Train.csv', 'pathOnly': '/Hospital data', 'project_id': '6656efbd7bda2cdf975e0e0e', 'parent_id': '6656efbd7bda2cdf975e0e0e', 'original_schema': [{'checked': True, 'inherited': True, 'is_categorical': False, 'bad_values': '', 'nullable': 'true', '_id': '66570d407bda2cdf975e1f34', 'field': 'customerID', 'alias': 'customerID', 'type': 'String', 'position': '0'}, {'checked': True, 'inherited': True, 'is_categorical': False, 'bad_values': '', 'nullable': 'true', '_id': '66570d407bda2cdf975e1f35', 'field': 'gender', 'alias': 'gender', 'type': 'String', 'position': '1'}, {'checked': True, 'inherited': True, 'is_categorical': False, 'bad_values': '', 'nullable': 'true', '_id': '66570d407bda2cdf975e1f36', 'field': 'SeniorCitizen', 'alias': 'SeniorCitizen', 'type': 'numeric', 'position': '2'}, {'checked': True, 'inherited': True, 'is_categorical': False, 'bad_values': '', 'nullable': 'true', '_id': '66570d407bda2cdf975e1f37', 'field': 'Partner', 'alias': 'Partner', 'type': 'String', 'position': '3'}, {'checked': True, 'inherited': True, 'is_categorical': False, 'bad_values': '', 'nullable': 'true', '_id': '66570d407bda2cdf975e1f38', 'field': 'Dependents', 'alias': 'Dependents', 'type': 'String', 'position': '4'}, {'checked': True, 'inherited': True, 'is_categorical': False, 'bad_values': '', 'nullable': 'true', '_id': '66570d407bda2cdf975e1f39', 'field': 'tenure', 'alias': 'tenure', 'type': 'numeric', 'position': '5'}, {'checked': True, 'inherited': True, 'is_categorical': False, 'bad_values': '', 'nullable': 'true', '_id': '66570d407bda2cdf975e1f3a', 'field': 'PhoneService', 'alias': 'PhoneService', 'type': 'String', 'position': '6'}, {'checked': True, 'inherited': True, 'is_categorical': False, 'bad_values': '', 'nullable': 'true', '_id': '66570d407bda2cdf975e1f3b', 'field': 'MultipleLines', 'alias': 'MultipleLines', 'type': 'String', 'position': '7'}, {'checked': True, 'inherited': True, 'is_categorical': False, 'bad_values': '', 'nullable': 'true', '_id': '66570d407bda2cdf975e1f3c', 'field': 'InternetService', 'alias': 'InternetService', 'type': 'String', 'position': '8'}, {'checked': True, 'inherited': True, 'is_categorical': False, 'bad_values': '', 'nullable': 'true', '_id': '66570d407bda2cdf975e1f3d', 'field': 'OnlineSecurity', 'alias': 'OnlineSecurity', 'type': 'String', 'position': '9'}, {'checked': True, 'inherited': True, 'is_categorical': False, 'bad_values': '', 'nullable': 'true', '_id': '66570d407bda2cdf975e1f3e', 'field': 'OnlineBackup', 'alias': 'OnlineBackup', 'type': 'String', 'position': '10'}, {'checked': True, 'inherited': True, 'is_categorical': False, 'bad_values': '', 'nullable': 'true', '_id': '66570d407bda2cdf975e1f3f', 'field': 'DeviceProtection', 'alias': 'DeviceProtection', 'type': 'String', 'position': '11'}, {'checked': True, 'inherited': True, 'is_categorical': False, 'bad_values': '', 'nullable': 'true', '_id': '66570d407bda2cdf975e1f40', 'field': 'TechSupport', 'alias': 'TechSupport', 'type': 'String', 'position': '12'}, {'checked': True, 'inherited': True, 'is_categorical': False, 'bad_values': '', 'nullable': 'true', '_id': '66570d407bda2cdf975e1f41', 'field': 'StreamingTV', 'alias': 'StreamingTV', 'type': 'String', 'position': '13'}, {'checked': True, 'inherited': True, 'is_categorical': False, 'bad_values': '', 'nullable': 'true', '_id': '66570d407bda2cdf975e1f42', 'field': 'StreamingMovies', 'alias': 'StreamingMovies', 'type': 'String', 'position': '14'}, {'checked': True, 'inherited': True, 'is_categorical': False, 'bad_values': '', 'nullable': 'true', '_id': '66570d407bda2cdf975e1f43', 'field': 'Contract', 'alias': 'Contract', 'type': 'String', 'position': '15'}, {'checked': True, 'inherited': True, 'is_categorical': False, 'bad_values': '', 'nullable': 'true', '_id': '66570d407bda2cdf975e1f44', 'field': 'PaperlessBilling', 'alias': 'PaperlessBilling', 'type': 'String', 'position': '16'}, {'checked': True, 'inherited': True, 'is_categorical': False, 'bad_values': '', 'nullable': 'true', '_id': '66570d407bda2cdf975e1f45', 'field': 'PaymentMethod', 'alias': 'PaymentMethod', 'type': 'String', 'position': '17'}, {'checked': True, 'inherited': True, 'is_categorical': False, 'bad_values': '', 'nullable': 'true', '_id': '66570d407bda2cdf975e1f46', 'field': 'MonthlyCharges', 'alias': 'MonthlyCharges', 'type': 'real', 'position': '18'}, {'checked': True, 'inherited': True, 'is_categorical': False, 'bad_values': '', 'nullable': 'true', '_id': '66570d407bda2cdf975e1f47', 'field': 'TotalCharges', 'alias': 'TotalCharges', 'type': 'real', 'position': '19'}, {'checked': True, 'inherited': True, 'is_categorical': False, 'bad_values': '', 'nullable': 'true', '_id': '66570d407bda2cdf975e1f48', 'field': 'Churn', 'alias': 'Churn', 'type': 'String', 'position': '20'}], 'actual_schema': [{'checked': True, 'inherited': True, 'is_categorical': False, 'bad_values': '', 'nullable': 'true', '_id': '66570d407bda2cdf975e1f1f', 'field': 'customerID', 'alias': 'customerID', 'type': 'String', 'position': '0'}, {'checked': True, 'inherited': True, 'is_categorical': False, 'bad_values': '', 'nullable': 'true', '_id': '66570d407bda2cdf975e1f20', 'field': 'gender', 'alias': 'gender', 'type': 'String', 'position': '1'}, {'checked': True, 'inherited': True, 'is_categorical': False, 'bad_values': '', 'nullable': 'true', '_id': '66570d407bda2cdf975e1f21', 'field': 'SeniorCitizen', 'alias': 'SeniorCitizen', 'type': 'numeric', 'position': '2'}, {'checked': True, 'inherited': True, 'is_categorical': False, 'bad_values': '', 'nullable': 'true', '_id': '66570d407bda2cdf975e1f22', 'field': 'Partner', 'alias': 'Partner', 'type': 'String', 'position': '3'}, {'checked': True, 'inherited': True, 'is_categorical': False, 'bad_values': '', 'nullable': 'true', '_id': '66570d407bda2cdf975e1f23', 'field': 'Dependents', 'alias': 'Dependents', 'type': 'String', 'position': '4'}, {'checked': True, 'inherited': True, 'is_categorical': False, 'bad_values': '', 'nullable': 'true', '_id': '66570d407bda2cdf975e1f24', 'field': 'tenure', 'alias': 'tenure', 'type': 'numeric', 'position': '5'}, {'checked': True, 'inherited': True, 'is_categorical': False, 'bad_values': '', 'nullable': 'true', '_id': '66570d407bda2cdf975e1f25', 'field': 'PhoneService', 'alias': 'PhoneService', 'type': 'String', 'position': '6'}, {'checked': True, 'inherited': True, 'is_categorical': False, 'bad_values': '', 'nullable': 'true', '_id': '66570d407bda2cdf975e1f26', 'field': 'MultipleLines', 'alias': 'MultipleLines', 'type': 'String', 'position': '7'}, {'checked': True, 'inherited': True, 'is_categorical': False, 'bad_values': '', 'nullable': 'true', '_id': '66570d407bda2cdf975e1f27', 'field': 'InternetService', 'alias': 'InternetService', 'type': 'String', 'position': '8'}, {'checked': True, 'inherited': True, 'is_categorical': False, 'bad_values': '', 'nullable': 'true', '_id': '66570d407bda2cdf975e1f28', 'field': 'OnlineSecurity', 'alias': 'OnlineSecurity', 'type': 'String', 'position': '9'}, {'checked': True, 'inherited': True, 'is_categorical': False, 'bad_values': '', 'nullable': 'true', '_id': '66570d407bda2cdf975e1f29', 'field': 'OnlineBackup', 'alias': 'OnlineBackup', 'type': 'String', 'position': '10'}, {'checked': True, 'inherited': True, 'is_categorical': False, 'bad_values': '', 'nullable': 'true', '_id': '66570d407bda2cdf975e1f2a', 'field': 'DeviceProtection', 'alias': 'DeviceProtection', 'type': 'String', 'position': '11'}, {'checked': True, 'inherited': True, 'is_categorical': False, 'bad_values': '', 'nullable': 'true', '_id': '66570d407bda2cdf975e1f2b', 'field': 'TechSupport', 'alias': 'TechSupport', 'type': 'String', 'position': '12'}, {'checked': True, 'inherited': True, 'is_categorical': False, 'bad_values': '', 'nullable': 'true', '_id': '66570d407bda2cdf975e1f2c', 'field': 'StreamingTV', 'alias': 'StreamingTV', 'type': 'String', 'position': '13'}, {'checked': True, 'inherited': True, 'is_categorical': False, 'bad_values': '', 'nullable': 'true', '_id': '66570d407bda2cdf975e1f2d', 'field': 'StreamingMovies', 'alias': 'StreamingMovies', 'type': 'String', 'position': '14'}, {'checked': True, 'inherited': True, 'is_categorical': False, 'bad_values': '', 'nullable': 'true', '_id': '66570d407bda2cdf975e1f2e', 'field': 'Contract', 'alias': 'Contract', 'type': 'String', 'position': '15'}, {'checked': True, 'inherited': True, 'is_categorical': False, 'bad_values': '', 'nullable': 'true', '_id': '66570d407bda2cdf975e1f2f', 'field': 'PaperlessBilling', 'alias': 'PaperlessBilling', 'type': 'String', 'position': '16'}, {'checked': True, 'inherited': True, 'is_categorical': False, 'bad_values': '', 'nullable': 'true', '_id': '66570d407bda2cdf975e1f30', 'field': 'PaymentMethod', 'alias': 'PaymentMethod', 'type': 'String', 'position': '17'}, {'checked': True, 'inherited': True, 'is_categorical': False, 'bad_values': '', 'nullable': 'true', '_id': '66570d407bda2cdf975e1f31', 'field': 'MonthlyCharges', 'alias': 'MonthlyCharges', 'type': 'real', 'position': '18'}, {'checked': True, 'inherited': True, 'is_categorical': False, 'bad_values': '', 'nullable': 'true', '_id': '66570d407bda2cdf975e1f32', 'field': 'TotalCharges', 'alias': 'TotalCharges', 'type': 'real', 'position': '19'}, {'checked': True, 'inherited': True, 'is_categorical': False, 'bad_values': '', 'nullable': 'true', '_id': '66570d407bda2cdf975e1f33', 'field': 'Churn', 'alias': 'Churn', 'type': 'String', 'position': '20'}], 'server': 'https://dnm.bfirst.ai:443', 'server_url': '/nexusMax/NexusMaxPlatform/uploads/platform/', 'delimiter': ',', 'file_type': 'Delimeted', 'filename': 'FORMULAresult.csv', 'token': '', 'domain': '', 'is_header': 'Use Header Line', 'url': '/FileStore/platform/uploadedSourceFiles/part-00000-d4ccc2b8-1319-4496-85fb-55316f1d9ec1-c000.csv', 'results_url': 'http://dnm.bfirst.ai:44040/api/read/hdfs'}\")\n",
    "\n",
    "except Exception as ex: \n",
    "\tlogging.error(ex)\n"
   ]
  }
 ],
 "metadata": {},
 "nbformat": 4,
 "nbformat_minor": 5
}
